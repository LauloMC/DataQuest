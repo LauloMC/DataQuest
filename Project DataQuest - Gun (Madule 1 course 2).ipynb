{
 "cells": [
  {
   "cell_type": "markdown",
   "metadata": {},
   "source": [
    "# US Guns Death Data Project - Dataquest\n",
    "## 1. Open Data"
   ]
  },
  {
   "cell_type": "code",
   "execution_count": 1,
   "metadata": {
    "collapsed": false
   },
   "outputs": [
    {
     "name": "stdout",
     "output_type": "stream",
     "text": [
      "[['', 'year', 'month', 'intent', 'police', 'sex', 'age', 'race', 'hispanic', 'place', 'education'], ['1', '2012', '01', 'Suicide', '0', 'M', '34', 'Asian/Pacific Islander', '100', 'Home', '4'], ['2', '2012', '01', 'Suicide', '0', 'F', '21', 'White', '100', 'Street', '3'], ['3', '2012', '01', 'Suicide', '0', 'M', '60', 'White', '100', 'Other specified', '4'], ['4', '2012', '02', 'Suicide', '0', 'M', '64', 'White', '100', 'Home', '4']]\n"
     ]
    }
   ],
   "source": [
    "import csv\n",
    "f = open(\"guns.csv\", \"r\")\n",
    "csvreader = csv.reader(f)\n",
    "data = list(csvreader)\n",
    "print(data[0:5])"
   ]
  },
  {
   "cell_type": "markdown",
   "metadata": {},
   "source": [
    "## 2. Remove headers"
   ]
  },
  {
   "cell_type": "code",
   "execution_count": 2,
   "metadata": {
    "collapsed": false
   },
   "outputs": [
    {
     "name": "stdout",
     "output_type": "stream",
     "text": [
      "['', 'year', 'month', 'intent', 'police', 'sex', 'age', 'race', 'hispanic', 'place', 'education']\n",
      "[['1', '2012', '01', 'Suicide', '0', 'M', '34', 'Asian/Pacific Islander', '100', 'Home', '4'], ['2', '2012', '01', 'Suicide', '0', 'F', '21', 'White', '100', 'Street', '3'], ['3', '2012', '01', 'Suicide', '0', 'M', '60', 'White', '100', 'Other specified', '4'], ['4', '2012', '02', 'Suicide', '0', 'M', '64', 'White', '100', 'Home', '4'], ['5', '2012', '02', 'Suicide', '0', 'M', '31', 'White', '100', 'Other specified', '2']]\n"
     ]
    }
   ],
   "source": [
    "headers = data[0]\n",
    "data = data[1:]\n",
    "print(headers)\n",
    "print(data[0:5])"
   ]
  },
  {
   "cell_type": "markdown",
   "metadata": {},
   "source": [
    "## 3. Count deaths by year"
   ]
  },
  {
   "cell_type": "code",
   "execution_count": 3,
   "metadata": {
    "collapsed": false
   },
   "outputs": [
    {
     "name": "stdout",
     "output_type": "stream",
     "text": [
      "{'2014': 33599, '2012': 33563, '2013': 33636}\n"
     ]
    }
   ],
   "source": [
    "years = [i[1] for i in data]\n",
    "year_counts = {}\n",
    "for i in years:\n",
    "    if i not in year_counts:\n",
    "        year_counts[i] = 1\n",
    "    else:\n",
    "        year_counts[i] += 1\n",
    "\n",
    "print(year_counts)\n",
    "        "
   ]
  },
  {
   "cell_type": "markdown",
   "metadata": {},
   "source": [
    "## 4. Explore deaths by month and year"
   ]
  },
  {
   "cell_type": "code",
   "execution_count": 4,
   "metadata": {
    "collapsed": false
   },
   "outputs": [
    {
     "name": "stdout",
     "output_type": "stream",
     "text": [
      "[datetime.datetime(2012, 1, 1, 0, 0), datetime.datetime(2012, 1, 1, 0, 0), datetime.datetime(2012, 1, 1, 0, 0), datetime.datetime(2012, 2, 1, 0, 0), datetime.datetime(2012, 2, 1, 0, 0)]\n",
      "{datetime.datetime(2012, 11, 1, 0, 0): 2729, datetime.datetime(2013, 10, 1, 0, 0): 2808, datetime.datetime(2013, 12, 1, 0, 0): 2765, datetime.datetime(2013, 3, 1, 0, 0): 2862, datetime.datetime(2012, 12, 1, 0, 0): 2791, datetime.datetime(2014, 9, 1, 0, 0): 2914, datetime.datetime(2013, 11, 1, 0, 0): 2758, datetime.datetime(2012, 4, 1, 0, 0): 2795, datetime.datetime(2012, 7, 1, 0, 0): 3026, datetime.datetime(2013, 7, 1, 0, 0): 3079, datetime.datetime(2014, 12, 1, 0, 0): 2857, datetime.datetime(2012, 10, 1, 0, 0): 2733, datetime.datetime(2014, 1, 1, 0, 0): 2651, datetime.datetime(2012, 3, 1, 0, 0): 2743, datetime.datetime(2014, 4, 1, 0, 0): 2862, datetime.datetime(2014, 3, 1, 0, 0): 2684, datetime.datetime(2012, 1, 1, 0, 0): 2758, datetime.datetime(2013, 8, 1, 0, 0): 2859, datetime.datetime(2012, 6, 1, 0, 0): 2826, datetime.datetime(2012, 8, 1, 0, 0): 2954, datetime.datetime(2012, 9, 1, 0, 0): 2852, datetime.datetime(2014, 10, 1, 0, 0): 2865, datetime.datetime(2013, 6, 1, 0, 0): 2920, datetime.datetime(2014, 11, 1, 0, 0): 2756, datetime.datetime(2012, 2, 1, 0, 0): 2357, datetime.datetime(2014, 6, 1, 0, 0): 2931, datetime.datetime(2013, 5, 1, 0, 0): 2806, datetime.datetime(2013, 2, 1, 0, 0): 2375, datetime.datetime(2014, 2, 1, 0, 0): 2361, datetime.datetime(2014, 8, 1, 0, 0): 2970, datetime.datetime(2013, 9, 1, 0, 0): 2742, datetime.datetime(2013, 4, 1, 0, 0): 2798, datetime.datetime(2014, 7, 1, 0, 0): 2884, datetime.datetime(2014, 5, 1, 0, 0): 2864, datetime.datetime(2012, 5, 1, 0, 0): 2999, datetime.datetime(2013, 1, 1, 0, 0): 2864}\n"
     ]
    }
   ],
   "source": [
    "import datetime\n",
    "\n",
    "dates = [datetime.datetime(year=int(i[1]), month=int(i[2]), day=1) for i in data]\n",
    "print(dates[0:5])\n",
    "\n",
    "date_counts = {}\n",
    "for i in dates:\n",
    "    if i not in date_counts:\n",
    "        date_counts[i] = 1\n",
    "    else:\n",
    "        date_counts[i] += 1\n",
    "        \n",
    "print(date_counts)\n"
   ]
  },
  {
   "cell_type": "markdown",
   "metadata": {},
   "source": [
    "## 5. Explore deaths by sex & race"
   ]
  },
  {
   "cell_type": "code",
   "execution_count": 5,
   "metadata": {
    "collapsed": false
   },
   "outputs": [
    {
     "name": "stdout",
     "output_type": "stream",
     "text": [
      "{'M': 86349, 'F': 14449}\n",
      "{'Native American/Native Alaskan': 917, 'Asian/Pacific Islander': 1326, 'White': 66237, 'Hispanic': 9022, 'Black': 23296}\n"
     ]
    }
   ],
   "source": [
    "sexlist = [i[5] for i in data]\n",
    "sex_counts = {}\n",
    "\n",
    "for i in sexlist:\n",
    "    if i not in sex_counts:\n",
    "        sex_counts[i] = 1\n",
    "    else:\n",
    "        sex_counts[i] += 1\n",
    "\n",
    "print(sex_counts)\n",
    "\n",
    "race = [i[7] for i in data]\n",
    "race_counts = {}\n",
    "\n",
    "for i in race:\n",
    "    if i not in race_counts:\n",
    "        race_counts[i] = 1\n",
    "    else:\n",
    "        race_counts[i] += 1\n",
    "\n",
    "print(race_counts)"
   ]
  },
  {
   "cell_type": "markdown",
   "metadata": {},
   "source": [
    "Learned many aspects of Python - want to learn more on data analysis"
   ]
  },
  {
   "cell_type": "markdown",
   "metadata": {},
   "source": [
    "## 6. Open census data"
   ]
  },
  {
   "cell_type": "code",
   "execution_count": 6,
   "metadata": {
    "collapsed": false
   },
   "outputs": [
    {
     "name": "stdout",
     "output_type": "stream",
     "text": [
      "[['Id', 'Year', 'Id', 'Sex', 'Id', 'Hispanic Origin', 'Id', 'Id2', 'Geography', 'Total', 'Race Alone - White', 'Race Alone - Hispanic', 'Race Alone - Black or African American', 'Race Alone - American Indian and Alaska Native', 'Race Alone - Asian', 'Race Alone - Native Hawaiian and Other Pacific Islander', 'Two or More Races'], ['cen42010', 'April 1, 2010 Census', 'totsex', 'Both Sexes', 'tothisp', 'Total', '0100000US', '', 'United States', '308745538', '197318956', '44618105', '40250635', '3739506', '15159516', '674625', '6984195']]\n"
     ]
    }
   ],
   "source": [
    "g = open(\"census.csv\", \"r\")\n",
    "csvreader2 = csv.reader(g)\n",
    "census = list(csvreader2)\n",
    "print(census)"
   ]
  },
  {
   "cell_type": "markdown",
   "metadata": {},
   "source": [
    "## 7. Calculate death per race ratio"
   ]
  },
  {
   "cell_type": "code",
   "execution_count": 12,
   "metadata": {
    "collapsed": false
   },
   "outputs": [
    {
     "name": "stdout",
     "output_type": "stream",
     "text": [
      "{'Native American/Native Alaskan': 24.521955573811088, 'Asian/Pacific Islander': 8.374309664161762, 'White': 33.56849303419181, 'Hispanic': 20.220491210910907, 'Black': 57.8773477735196}\n"
     ]
    }
   ],
   "source": [
    "for i in census:\n",
    "    mapping = {\n",
    "        \"Asian/Pacific Islander\" : 674625 + 15159516,\n",
    "        \"Black\" : 40250635,\n",
    "        \"Native American/Native Alaskan\" : 3739506,\n",
    "        \"Hispanic\" : 44618105,\n",
    "        \"White\" : 197318956\n",
    "    }\n",
    "    \n",
    "race_per_hundredk = {}\n",
    "for i, j in race_counts.items():\n",
    "    race_per_hundredk[i] = j / mapping[i] * 100000\n",
    "    \n",
    "print(race_per_hundredk)"
   ]
  },
  {
   "cell_type": "markdown",
   "metadata": {},
   "source": [
    "## 8. Filter deaths per homicide and calculate ratio per race"
   ]
  },
  {
   "cell_type": "code",
   "execution_count": 19,
   "metadata": {
    "collapsed": false
   },
   "outputs": [
    {
     "name": "stdout",
     "output_type": "stream",
     "text": [
      "['Suicide', 'Suicide', 'Suicide', 'Suicide', 'Suicide']\n",
      "['Asian/Pacific Islander', 'White', 'White', 'White', 'White']\n",
      "{'Native American/Native Alaskan': 8.717729026240365, 'Asian/Pacific Islander': 3.530346230970155, 'White': 4.6356417981453335, 'Hispanic': 12.627161104219914, 'Black': 48.471284987180944}\n"
     ]
    }
   ],
   "source": [
    "intents = [i[3] for i in data]\n",
    "print(intents[0:5])\n",
    "\n",
    "races = [i[7] for i in data]\n",
    "print(races[:5])\n",
    "\n",
    "homicide_race_count = {}\n",
    "\n",
    "for i, race in enumerate(races):\n",
    "    if intents[i] == \"Homicide\":\n",
    "        if race not in homicide_race_count:\n",
    "            homicide_race_count[race] = 1\n",
    "        else:\n",
    "            homicide_race_count[race] += 1\n",
    "\n",
    "homicide_race_per_hundredk = {}\n",
    "for i, j in homicide_race_count.items():\n",
    "    homicide_race_per_hundredk[i] = j / mapping[i] * 100000\n",
    "    \n",
    "print(homicide_race_per_hundredk)"
   ]
  },
  {
   "cell_type": "markdown",
   "metadata": {},
   "source": [
    "## 9. Calculate homicide rate per month"
   ]
  },
  {
   "cell_type": "code",
   "execution_count": 20,
   "metadata": {
    "collapsed": false
   },
   "outputs": [
    {
     "name": "stdout",
     "output_type": "stream",
     "text": [
      "{datetime.datetime(2012, 11, 1, 0, 0): 978, datetime.datetime(2013, 10, 1, 0, 0): 1009, datetime.datetime(2013, 12, 1, 0, 0): 1028, datetime.datetime(2012, 3, 1, 0, 0): 966, datetime.datetime(2012, 12, 1, 0, 0): 1083, datetime.datetime(2014, 9, 1, 0, 0): 942, datetime.datetime(2013, 11, 1, 0, 0): 979, datetime.datetime(2012, 4, 1, 0, 0): 999, datetime.datetime(2012, 7, 1, 0, 0): 1160, datetime.datetime(2013, 7, 1, 0, 0): 1137, datetime.datetime(2014, 12, 1, 0, 0): 1080, datetime.datetime(2012, 10, 1, 0, 0): 979, datetime.datetime(2014, 1, 1, 0, 0): 871, datetime.datetime(2013, 3, 1, 0, 0): 923, datetime.datetime(2014, 4, 1, 0, 0): 930, datetime.datetime(2014, 3, 1, 0, 0): 891, datetime.datetime(2012, 1, 1, 0, 0): 972, datetime.datetime(2013, 8, 1, 0, 0): 1000, datetime.datetime(2012, 6, 1, 0, 0): 1044, datetime.datetime(2012, 8, 1, 0, 0): 1090, datetime.datetime(2012, 9, 1, 0, 0): 1070, datetime.datetime(2014, 10, 1, 0, 0): 980, datetime.datetime(2013, 6, 1, 0, 0): 1066, datetime.datetime(2014, 11, 1, 0, 0): 962, datetime.datetime(2012, 2, 1, 0, 0): 749, datetime.datetime(2014, 6, 1, 0, 0): 1020, datetime.datetime(2013, 5, 1, 0, 0): 955, datetime.datetime(2013, 2, 1, 0, 0): 721, datetime.datetime(2014, 2, 1, 0, 0): 708, datetime.datetime(2014, 8, 1, 0, 0): 1035, datetime.datetime(2013, 9, 1, 0, 0): 954, datetime.datetime(2013, 4, 1, 0, 0): 916, datetime.datetime(2014, 7, 1, 0, 0): 972, datetime.datetime(2014, 5, 1, 0, 0): 1018, datetime.datetime(2012, 5, 1, 0, 0): 1003, datetime.datetime(2013, 1, 1, 0, 0): 986}\n"
     ]
    }
   ],
   "source": [
    "homicide_month = {}\n",
    "\n",
    "for i in data:\n",
    "    if i[3] == \"Homicide\":\n",
    "        if datetime.datetime(year=int(i[1]), month=int(i[2]), day=1) in homicide_month:\n",
    "            homicide_month[datetime.datetime(year=int(i[1]), month=int(i[2]), day=1)] += 1\n",
    "        else:\n",
    "            homicide_month[datetime.datetime(year=int(i[1]), month=int(i[2]), day=1)] = 1\n",
    "            \n",
    "print(homicide_month)\n",
    "\n"
   ]
  },
  {
   "cell_type": "code",
   "execution_count": null,
   "metadata": {
    "collapsed": true
   },
   "outputs": [],
   "source": []
  }
 ],
 "metadata": {
  "kernelspec": {
   "display_name": "Python 3",
   "language": "python",
   "name": "python3"
  },
  "language_info": {
   "codemirror_mode": {
    "name": "ipython",
    "version": 3
   },
   "file_extension": ".py",
   "mimetype": "text/x-python",
   "name": "python",
   "nbconvert_exporter": "python",
   "pygments_lexer": "ipython3",
   "version": "3.4.3"
  }
 },
 "nbformat": 4,
 "nbformat_minor": 0
}
